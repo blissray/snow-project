{
 "cells": [
  {
   "cell_type": "code",
   "execution_count": 1,
   "metadata": {},
   "outputs": [],
   "source": [
    "import pandas as pd\n",
    "import datetime"
   ]
  },
  {
   "cell_type": "markdown",
   "metadata": {},
   "source": [
    "## 기본 DataFrame 불러오기"
   ]
  },
  {
   "cell_type": "code",
   "execution_count": 2,
   "metadata": {},
   "outputs": [],
   "source": [
    "basic_df = pd.read_csv('basic_dataframe.csv', encoding='cp949')\n",
    "\n",
    "basic_df.날짜 = basic_df.날짜.map(lambda x : datetime.datetime.strptime(x, \"%Y-%m-%d\"))\n",
    "basic_df['년'] = basic_df.날짜.map(lambda x : x.year)\n",
    "basic_df['월'] = basic_df.날짜.map(lambda x : x.month)\n",
    "basic_df['일'] = basic_df.날짜.map(lambda x : x.day)\n",
    "basic_df['날짜'] = basic_df.날짜.map(lambda x : datetime.date(x.year, x.month, x.day))"
   ]
  },
  {
   "cell_type": "markdown",
   "metadata": {},
   "source": [
    "## 데이터 불러오기"
   ]
  },
  {
   "cell_type": "code",
   "execution_count": 3,
   "metadata": {},
   "outputs": [],
   "source": [
    "경보발령단계_df = pd.read_excel('../원본데이터/제설현장관리시스템_20191004/─┌╡σ┴ñ║╕_20191001.xlsx', sheet_name='경보발령단계', header=None, index_col=0)\n",
    "경보발령단계_dict = 경보발령단계_df.to_dict()[1]\n",
    "\n",
    "부서정보_df = pd.read_excel('../원본데이터/제설현장관리시스템_20191004/─┌╡σ┴ñ║╕_20191001.xlsx', sheet_name='부서정보', header=None, index_col=0)\n",
    "부서정보_dict = 부서정보_df.to_dict()[1]\n",
    "\n",
    "인원구분_df = pd.read_excel('../원본데이터/제설현장관리시스템_20191004/─┌╡σ┴ñ║╕_20191001.xlsx', sheet_name='인원구분', header=None, index_col=0)\n",
    "인원구분_dict = 인원구분_df.to_dict()[1]\n",
    "\n",
    "제설자재코드_df = pd.read_excel('../원본데이터/제설현장관리시스템_20191004/─┌╡σ┴ñ║╕_20191001.xlsx', sheet_name='제설자재코드', header=None, index_col=0)\n",
    "제설자재코드_dict = 제설자재코드_df.to_dict()[1]\n",
    "\n",
    "장비구분_df = pd.read_excel('../원본데이터/제설현장관리시스템_20191004/─┌╡σ┴ñ║╕_20191001.xlsx', sheet_name='장비구분', header=None, index_col=0)\n",
    "장비구분_dict = 장비구분_df.to_dict()[1]"
   ]
  },
  {
   "cell_type": "code",
   "execution_count": 4,
   "metadata": {},
   "outputs": [],
   "source": [
    "제설경보발령_df = pd.read_excel('../원본데이터/20190718_제설현장관리시스템/TN_ALARM_GNFD.xlsx')\n",
    "\n",
    "투입자재_df = pd.read_excel('../원본데이터/20190718_제설현장관리시스템/TN_INPT_MTRIL.xlsx')\n",
    "\n",
    "잔설처리_df = pd.read_excel('../원본데이터/20190718_제설현장관리시스템/VN_INPUT_SNOW.xlsx')\n",
    "\n",
    "투입장비_df = pd.read_excel('../원본데이터/20190718_제설현장관리시스템/TN_INPT_EQPMN.xlsx')\n",
    "\n",
    "투입인원_df = pd.read_excel('../원본데이터/20190718_제설현장관리시스템/TN_INPT_NMPR.xlsx')"
   ]
  },
  {
   "cell_type": "markdown",
   "metadata": {},
   "source": [
    "## 제설경보발령"
   ]
  },
  {
   "cell_type": "code",
   "execution_count": 5,
   "metadata": {},
   "outputs": [],
   "source": [
    "제설경보발령_df = 제설경보발령_df.rename(columns={'ALARM_GNFD_DE_DT':'날짜','ALARM_GNFD_STEP_SN':'경보발령단계','ALARM_GNFD_TIME_HM':'시간','ALARM_GNFD_CN':'경보발령내용','ALARM_GNFD_SJ':'경보발령제목'})"
   ]
  },
  {
   "cell_type": "code",
   "execution_count": 6,
   "metadata": {},
   "outputs": [],
   "source": [
    "change_list = []\n",
    "not_change_list = []\n",
    "\n",
    "for i in 제설경보발령_df.경보발령단계:\n",
    "    try:\n",
    "        change_list.append(경보발령단계_dict[int(i)])\n",
    "    except:\n",
    "        change_list.append('check')\n",
    "        not_change_list.append(i)\n",
    "\n",
    "제설경보발령_df.경보발령단계 = change_list\n",
    "# change_list.count('check') # 0개"
   ]
  },
  {
   "cell_type": "code",
   "execution_count": 7,
   "metadata": {},
   "outputs": [],
   "source": [
    "# 211번째줄 15/11/01 --> 2015-11-01로 바꿈\n",
    "제설경보발령_df.날짜 = 제설경보발령_df.날짜.map(lambda x : datetime.datetime.strptime(x, \"%Y-%m-%d\"))\n",
    "제설경보발령_df['년'] = 제설경보발령_df.날짜.map(lambda x : x.year)\n",
    "제설경보발령_df['월'] = 제설경보발령_df.날짜.map(lambda x : x.month)\n",
    "제설경보발령_df['일'] = 제설경보발령_df.날짜.map(lambda x : x.day)\n",
    "제설경보발령_df['날짜'] = 제설경보발령_df.날짜.map(lambda x : datetime.date(x.year, x.month, x.day))"
   ]
  },
  {
   "cell_type": "code",
   "execution_count": 8,
   "metadata": {},
   "outputs": [
    {
     "data": {
      "text/html": [
       "<div>\n",
       "<style scoped>\n",
       "    .dataframe tbody tr th:only-of-type {\n",
       "        vertical-align: middle;\n",
       "    }\n",
       "\n",
       "    .dataframe tbody tr th {\n",
       "        vertical-align: top;\n",
       "    }\n",
       "\n",
       "    .dataframe thead th {\n",
       "        text-align: right;\n",
       "    }\n",
       "</style>\n",
       "<table border=\"1\" class=\"dataframe\">\n",
       "  <thead>\n",
       "    <tr style=\"text-align: right;\">\n",
       "      <th></th>\n",
       "      <th>날짜</th>\n",
       "      <th>시간</th>\n",
       "      <th>경보발령단계</th>\n",
       "      <th>경보발령제목</th>\n",
       "      <th>경보발령내용</th>\n",
       "      <th>년</th>\n",
       "      <th>월</th>\n",
       "      <th>일</th>\n",
       "    </tr>\n",
       "  </thead>\n",
       "  <tbody>\n",
       "    <tr>\n",
       "      <td>0</td>\n",
       "      <td>2011-01-13</td>\n",
       "      <td>1500</td>\n",
       "      <td>보강</td>\n",
       "      <td>제설대책 보강근무 지시 및 1단계 발령 예고</td>\n",
       "      <td>1. 2011.01.13(목) 14:00시 기상청 일기예보에 의하면 2011.0...</td>\n",
       "      <td>2011</td>\n",
       "      <td>1</td>\n",
       "      <td>13</td>\n",
       "    </tr>\n",
       "    <tr>\n",
       "      <td>1</td>\n",
       "      <td>2011-01-22</td>\n",
       "      <td>1200</td>\n",
       "      <td>발령해제</td>\n",
       "      <td>제설대책 보강근무 해제 및 1단계근무 발령 예고 알림</td>\n",
       "      <td>1. 2011.1.22(토) 11:00시 기상예보에 의하면 12:00 이...</td>\n",
       "      <td>2011</td>\n",
       "      <td>1</td>\n",
       "      <td>22</td>\n",
       "    </tr>\n",
       "    <tr>\n",
       "      <td>2</td>\n",
       "      <td>2011-01-29</td>\n",
       "      <td>300</td>\n",
       "      <td>보강</td>\n",
       "      <td>기상예보에 따른 제설대책 보강근무 지시</td>\n",
       "      <td>1. 2011.01.29(토) 02:00 현재 기상예보에 의하면 ...</td>\n",
       "      <td>2011</td>\n",
       "      <td>1</td>\n",
       "      <td>29</td>\n",
       "    </tr>\n",
       "    <tr>\n",
       "      <td>3</td>\n",
       "      <td>2011-02-03</td>\n",
       "      <td>300</td>\n",
       "      <td>보강</td>\n",
       "      <td>기상예보에 따른 제설대책 보강근무 지시</td>\n",
       "      <td>1. 2011.02.03(목) 02:00 기상예보에 의하면 201...</td>\n",
       "      <td>2011</td>\n",
       "      <td>2</td>\n",
       "      <td>3</td>\n",
       "    </tr>\n",
       "    <tr>\n",
       "      <td>4</td>\n",
       "      <td>2011-02-03</td>\n",
       "      <td>900</td>\n",
       "      <td>발령해제</td>\n",
       "      <td>제설작업 근무 해제(평상시근무로 전환)</td>\n",
       "      <td>1. 2011. 02. 03. 5:00  기상청 일기예보에 ...</td>\n",
       "      <td>2011</td>\n",
       "      <td>2</td>\n",
       "      <td>3</td>\n",
       "    </tr>\n",
       "    <tr>\n",
       "      <td>...</td>\n",
       "      <td>...</td>\n",
       "      <td>...</td>\n",
       "      <td>...</td>\n",
       "      <td>...</td>\n",
       "      <td>...</td>\n",
       "      <td>...</td>\n",
       "      <td>...</td>\n",
       "      <td>...</td>\n",
       "    </tr>\n",
       "    <tr>\n",
       "      <td>432</td>\n",
       "      <td>2018-12-13</td>\n",
       "      <td>1300</td>\n",
       "      <td>발령해제</td>\n",
       "      <td>제설작업 근무 해제(평상시근무로 전환)</td>\n",
       "      <td>\\n    2018.12.13. 현재 기상현황 등을 고려하여 2018.12.13 1...</td>\n",
       "      <td>2018</td>\n",
       "      <td>12</td>\n",
       "      <td>13</td>\n",
       "    </tr>\n",
       "    <tr>\n",
       "      <td>433</td>\n",
       "      <td>2019-02-06</td>\n",
       "      <td>2100</td>\n",
       "      <td>보강</td>\n",
       "      <td>기상예보에 따른 제설대책 보강근무 지시</td>\n",
       "      <td>1. 2019.2.6.(수) 17:00 기상청 발표에 의하면 서울지...</td>\n",
       "      <td>2019</td>\n",
       "      <td>2</td>\n",
       "      <td>6</td>\n",
       "    </tr>\n",
       "    <tr>\n",
       "      <td>434</td>\n",
       "      <td>2019-02-07</td>\n",
       "      <td>800</td>\n",
       "      <td>발령해제</td>\n",
       "      <td>제설작업 근무 해제(평상시근무로 전환)</td>\n",
       "      <td>1. 2019. 2. 7(목). 08:00부로 근무를 해제하...</td>\n",
       "      <td>2019</td>\n",
       "      <td>2</td>\n",
       "      <td>7</td>\n",
       "    </tr>\n",
       "    <tr>\n",
       "      <td>435</td>\n",
       "      <td>2019-02-12</td>\n",
       "      <td>800</td>\n",
       "      <td>발령해제</td>\n",
       "      <td>제설작업 근무 해제(평상시근무로 전환)</td>\n",
       "      <td>1. 2019. 2. 12. 08:00부로 근무를 해제하니 ...</td>\n",
       "      <td>2019</td>\n",
       "      <td>2</td>\n",
       "      <td>12</td>\n",
       "    </tr>\n",
       "    <tr>\n",
       "      <td>436</td>\n",
       "      <td>2019-02-16</td>\n",
       "      <td>700</td>\n",
       "      <td>발령해제</td>\n",
       "      <td>제설작업 근무 해제(평상시근무로 전환)</td>\n",
       "      <td>1. 2019. 2. 16(토). 07:00 부로 근무를 해...</td>\n",
       "      <td>2019</td>\n",
       "      <td>2</td>\n",
       "      <td>16</td>\n",
       "    </tr>\n",
       "  </tbody>\n",
       "</table>\n",
       "<p>437 rows × 8 columns</p>\n",
       "</div>"
      ],
      "text/plain": [
       "             날짜    시간 경보발령단계                         경보발령제목  \\\n",
       "0    2011-01-13  1500     보강       제설대책 보강근무 지시 및 1단계 발령 예고   \n",
       "1    2011-01-22  1200   발령해제  제설대책 보강근무 해제 및 1단계근무 발령 예고 알림   \n",
       "2    2011-01-29   300     보강          기상예보에 따른 제설대책 보강근무 지시   \n",
       "3    2011-02-03   300     보강          기상예보에 따른 제설대책 보강근무 지시   \n",
       "4    2011-02-03   900   발령해제          제설작업 근무 해제(평상시근무로 전환)   \n",
       "..          ...   ...    ...                            ...   \n",
       "432  2018-12-13  1300   발령해제          제설작업 근무 해제(평상시근무로 전환)   \n",
       "433  2019-02-06  2100     보강          기상예보에 따른 제설대책 보강근무 지시   \n",
       "434  2019-02-07   800   발령해제          제설작업 근무 해제(평상시근무로 전환)   \n",
       "435  2019-02-12   800   발령해제          제설작업 근무 해제(평상시근무로 전환)   \n",
       "436  2019-02-16   700   발령해제          제설작업 근무 해제(평상시근무로 전환)   \n",
       "\n",
       "                                                경보발령내용     년   월   일  \n",
       "0      1. 2011.01.13(목) 14:00시 기상청 일기예보에 의하면 2011.0...  2011   1  13  \n",
       "1          1. 2011.1.22(토) 11:00시 기상예보에 의하면 12:00 이...  2011   1  22  \n",
       "2              1. 2011.01.29(토) 02:00 현재 기상예보에 의하면 ...  2011   1  29  \n",
       "3              1. 2011.02.03(목) 02:00 기상예보에 의하면 201...  2011   2   3  \n",
       "4                 1. 2011. 02. 03. 5:00  기상청 일기예보에 ...  2011   2   3  \n",
       "..                                                 ...   ...  ..  ..  \n",
       "432  \\n    2018.12.13. 현재 기상현황 등을 고려하여 2018.12.13 1...  2018  12  13  \n",
       "433           1. 2019.2.6.(수) 17:00 기상청 발표에 의하면 서울지...  2019   2   6  \n",
       "434               1. 2019. 2. 7(목). 08:00부로 근무를 해제하...  2019   2   7  \n",
       "435               1. 2019. 2. 12. 08:00부로 근무를 해제하니 ...  2019   2  12  \n",
       "436               1. 2019. 2. 16(토). 07:00 부로 근무를 해...  2019   2  16  \n",
       "\n",
       "[437 rows x 8 columns]"
      ]
     },
     "execution_count": 8,
     "metadata": {},
     "output_type": "execute_result"
    }
   ],
   "source": [
    "제설경보발령_df[['날짜','시간','경보발령단계','경보발령제목','경보발령내용','년','월','일']]"
   ]
  },
  {
   "cell_type": "code",
   "execution_count": 9,
   "metadata": {},
   "outputs": [
    {
     "data": {
      "text/plain": [
       "array([1500, 1200,  300,  900, 2100,  800, 1800,    0,  600, 1130, 1420,\n",
       "       1005,  905, 1615, 2310, 1000, 1100,  400, 1640, 1355,  700, 1425,\n",
       "       2120, 1455,  825,  855,  955, 1700,  750,  250, 1300,  615,  835,\n",
       "        500, 2300, 1900, 1915, 1905, 1950, 1140,   20, 1400,  230,  540,\n",
       "       1120, 1535,  915, 1720, 1635, 2340,  930, 2055, 2250, 2040,  635,\n",
       "       1735, 1520, 1525, 1530, 2350, 2200, 1515, 1600, 2030, 1630, 1430,\n",
       "       2125, 1510, 1540, 2130, 2330, 2000, 1550, 1320, 2155, 1330, 2205,\n",
       "       1230,  100,   50,  730,  130,    5, 1730,  420, 1750, 1740, 1305,\n",
       "       1605, 1810,  910,   25, 1930, 1805, 1315, 2235, 1030, 2230, 2110,\n",
       "       1725, 1025])"
      ]
     },
     "execution_count": 9,
     "metadata": {},
     "output_type": "execute_result"
    }
   ],
   "source": [
    "제설경보발령_df.시간.unique()"
   ]
  },
  {
   "cell_type": "code",
   "execution_count": 10,
   "metadata": {},
   "outputs": [],
   "source": [
    "제설경보발령_df = 제설경보발령_df[['날짜','년','월','일','시간','경보발령단계','경보발령제목','경보발령내용']]\n",
    "제설경보발령_df.to_csv('../데이터정리/미완성_제설경보발령.csv', index=False)"
   ]
  },
  {
   "cell_type": "markdown",
   "metadata": {},
   "source": [
    "## 투입자재"
   ]
  },
  {
   "cell_type": "code",
   "execution_count": 11,
   "metadata": {},
   "outputs": [],
   "source": [
    "투입자재_df = 투입자재_df.rename(columns={'MTRIL_CODE_SE':'재설자재','DEPT_CDE':'구이름','INPT_DE_DT':'날짜','INPT_TIME_HM':'시간','INPT_MTRIL_QY':'투입자재량','RM':'비고'})"
   ]
  },
  {
   "cell_type": "code",
   "execution_count": 12,
   "metadata": {},
   "outputs": [],
   "source": [
    "change_list = []\n",
    "not_change_list = []\n",
    "\n",
    "for i in 투입자재_df.구이름:\n",
    "    try:\n",
    "        change_list.append(부서정보_dict[int(i)])\n",
    "    except:\n",
    "        change_list.append('check')\n",
    "        not_change_list.append(i)\n",
    "\n",
    "투입자재_df.구이름 = change_list\n",
    "# {6110000, 6112226} 데이터 없음\n",
    "# change_list.count('check') # 35개"
   ]
  },
  {
   "cell_type": "code",
   "execution_count": 13,
   "metadata": {},
   "outputs": [],
   "source": [
    "change_list = []\n",
    "not_change_list = []\n",
    "\n",
    "for i in 투입자재_df.재설자재:\n",
    "    try:\n",
    "        change_list.append(제설자재코드_dict[int(i)])\n",
    "    except:\n",
    "        change_list.append('check')\n",
    "        not_change_list.append(i)\n",
    "\n",
    "투입자재_df.재설자재 = change_list\n",
    "# change_list.count('check') #0개"
   ]
  },
  {
   "cell_type": "code",
   "execution_count": 14,
   "metadata": {},
   "outputs": [],
   "source": [
    "투입자재_df.날짜 = 투입자재_df.날짜.map(lambda x : datetime.datetime.strptime(str(x), \"%Y%m%d\"))\n",
    "투입자재_df['년'] = 투입자재_df.날짜.map(lambda x : x.year)\n",
    "투입자재_df['월'] = 투입자재_df.날짜.map(lambda x : x.month)\n",
    "투입자재_df['일'] = 투입자재_df.날짜.map(lambda x : x.day)\n",
    "투입자재_df['날짜'] = 투입자재_df.날짜.map(lambda x : datetime.date(x.year, x.month, x.day))"
   ]
  },
  {
   "cell_type": "code",
   "execution_count": 15,
   "metadata": {},
   "outputs": [
    {
     "data": {
      "text/html": [
       "<div>\n",
       "<style scoped>\n",
       "    .dataframe tbody tr th:only-of-type {\n",
       "        vertical-align: middle;\n",
       "    }\n",
       "\n",
       "    .dataframe tbody tr th {\n",
       "        vertical-align: top;\n",
       "    }\n",
       "\n",
       "    .dataframe thead th {\n",
       "        text-align: right;\n",
       "    }\n",
       "</style>\n",
       "<table border=\"1\" class=\"dataframe\">\n",
       "  <thead>\n",
       "    <tr style=\"text-align: right;\">\n",
       "      <th></th>\n",
       "      <th>재설자재</th>\n",
       "      <th>구이름</th>\n",
       "      <th>날짜</th>\n",
       "      <th>시간</th>\n",
       "      <th>투입자재량</th>\n",
       "      <th>비고</th>\n",
       "      <th>INPT_DT</th>\n",
       "      <th>년</th>\n",
       "      <th>월</th>\n",
       "      <th>일</th>\n",
       "    </tr>\n",
       "  </thead>\n",
       "  <tbody>\n",
       "    <tr>\n",
       "      <td>0</td>\n",
       "      <td>염화칼슘</td>\n",
       "      <td>도봉구</td>\n",
       "      <td>2011-02-26</td>\n",
       "      <td>2200</td>\n",
       "      <td>0.0</td>\n",
       "      <td>NaN</td>\n",
       "      <td>11/02/26</td>\n",
       "      <td>2011</td>\n",
       "      <td>2</td>\n",
       "      <td>26</td>\n",
       "    </tr>\n",
       "    <tr>\n",
       "      <td>1</td>\n",
       "      <td>소금</td>\n",
       "      <td>도봉구</td>\n",
       "      <td>2011-02-26</td>\n",
       "      <td>2200</td>\n",
       "      <td>0.0</td>\n",
       "      <td>NaN</td>\n",
       "      <td>11/02/26</td>\n",
       "      <td>2011</td>\n",
       "      <td>2</td>\n",
       "      <td>26</td>\n",
       "    </tr>\n",
       "    <tr>\n",
       "      <td>2</td>\n",
       "      <td>모래</td>\n",
       "      <td>도봉구</td>\n",
       "      <td>2011-02-26</td>\n",
       "      <td>2200</td>\n",
       "      <td>0.0</td>\n",
       "      <td>NaN</td>\n",
       "      <td>11/02/26</td>\n",
       "      <td>2011</td>\n",
       "      <td>2</td>\n",
       "      <td>26</td>\n",
       "    </tr>\n",
       "    <tr>\n",
       "      <td>3</td>\n",
       "      <td>염화마그네슘</td>\n",
       "      <td>도봉구</td>\n",
       "      <td>2011-02-26</td>\n",
       "      <td>2200</td>\n",
       "      <td>0.0</td>\n",
       "      <td>NaN</td>\n",
       "      <td>11/02/26</td>\n",
       "      <td>2011</td>\n",
       "      <td>2</td>\n",
       "      <td>26</td>\n",
       "    </tr>\n",
       "    <tr>\n",
       "      <td>4</td>\n",
       "      <td>환경인증(고상)</td>\n",
       "      <td>도봉구</td>\n",
       "      <td>2011-02-26</td>\n",
       "      <td>2200</td>\n",
       "      <td>0.0</td>\n",
       "      <td>NaN</td>\n",
       "      <td>11/02/26</td>\n",
       "      <td>2011</td>\n",
       "      <td>2</td>\n",
       "      <td>26</td>\n",
       "    </tr>\n",
       "  </tbody>\n",
       "</table>\n",
       "</div>"
      ],
      "text/plain": [
       "       재설자재  구이름          날짜    시간  투입자재량  비고   INPT_DT     년  월   일\n",
       "0      염화칼슘  도봉구  2011-02-26  2200    0.0 NaN  11/02/26  2011  2  26\n",
       "1        소금  도봉구  2011-02-26  2200    0.0 NaN  11/02/26  2011  2  26\n",
       "2        모래  도봉구  2011-02-26  2200    0.0 NaN  11/02/26  2011  2  26\n",
       "3    염화마그네슘  도봉구  2011-02-26  2200    0.0 NaN  11/02/26  2011  2  26\n",
       "4  환경인증(고상)  도봉구  2011-02-26  2200    0.0 NaN  11/02/26  2011  2  26"
      ]
     },
     "execution_count": 15,
     "metadata": {},
     "output_type": "execute_result"
    }
   ],
   "source": [
    "투입자재_df.head()"
   ]
  },
  {
   "cell_type": "code",
   "execution_count": 16,
   "metadata": {},
   "outputs": [
    {
     "data": {
      "text/plain": [
       "array([nan])"
      ]
     },
     "execution_count": 16,
     "metadata": {},
     "output_type": "execute_result"
    }
   ],
   "source": [
    "투입자재_df.비고.unique()"
   ]
  },
  {
   "cell_type": "code",
   "execution_count": 17,
   "metadata": {},
   "outputs": [
    {
     "data": {
      "text/plain": [
       "array([2200, 1200, 1510, 1540, 1520, 2324, 1655, 1957,    1, 2300,  930,\n",
       "       1330, 1130, 1812, 2243, 1755,    8, 2310, 1754, 2318, 1722, 1126,\n",
       "       1829, 2305, 1142, 1804, 1040, 1701,  101, 2315, 1739, 2322, 1102,\n",
       "       2304,  109, 1059, 1740, 2312, 1052, 1136, 1846,  209, 2259, 1657,\n",
       "       1109, 1135, 1800, 2328,  956, 1808,  726, 2351, 1811, 2323, 1116,\n",
       "       1000,   54, 1757, 1830, 1108, 1756,   47, 1104,  502, 1847, 2331,\n",
       "        830,   55, 1854,  958, 1005, 1110, 1107, 2313, 2314,  100, 2301,\n",
       "       2325, 1956, 2119, 2342, 1403, 2329, 1703,  630, 2306, 1842,  925,\n",
       "        900, 2006,  320, 1529,  445, 1120, 1851, 1833,    3,  137, 2256,\n",
       "        135, 1742, 1734, 1012,  120, 1840,  501, 1821, 1827, 1841, 2204,\n",
       "       1837, 2302, 1750, 1744, 2255, 2303, 2137,  105,  200,  400,  910,\n",
       "       1430, 1900,   10,  330, 1100, 1930, 2100,  700,  540,  600, 1630,\n",
       "       2000, 2230,  310, 1600, 2140,  530, 2210,  430, 1700,  500, 1530,\n",
       "          0, 1400,  350,  940, 1030, 1500, 2250,  110, 1300, 1620,  810,\n",
       "        300,  920,  800,  730, 1410, 1420, 1310, 2030, 2120, 1010,  840,\n",
       "         30, 2330,  740, 1610, 1250, 1810, 1320, 1020, 2110,   20,  710,\n",
       "       1050, 1230, 1730])"
      ]
     },
     "execution_count": 17,
     "metadata": {},
     "output_type": "execute_result"
    }
   ],
   "source": [
    "투입자재_df.시간.unique()"
   ]
  },
  {
   "cell_type": "code",
   "execution_count": 18,
   "metadata": {},
   "outputs": [
    {
     "data": {
      "text/plain": [
       "array(['염화칼슘', '소금', '모래', '염화마그네슘', '환경인증(고상)', '액상제설재', '염화칼슘수용액',\n",
       "       '환경인증(액상)', '삽', '넉가래', '모래주머니', '빗자루', '도구계', '자재계'], dtype=object)"
      ]
     },
     "execution_count": 18,
     "metadata": {},
     "output_type": "execute_result"
    }
   ],
   "source": [
    "투입자재_df.재설자재.unique()"
   ]
  },
  {
   "cell_type": "code",
   "execution_count": 19,
   "metadata": {},
   "outputs": [],
   "source": [
    "투입자재_df = 투입자재_df[['날짜','년','월','일','시간','구이름','재설자재','투입자재량','비고']]\n",
    "\n",
    "투입자재_df.to_csv('../데이터정리/미완성_투입자재.csv', index=False)"
   ]
  },
  {
   "cell_type": "markdown",
   "metadata": {},
   "source": [
    "## 잔설처리"
   ]
  },
  {
   "cell_type": "code",
   "execution_count": 20,
   "metadata": {},
   "outputs": [],
   "source": [
    "잔설처리_df = 잔설처리_df.rename(columns={'INPUT_DATE':'날짜','INPUT_TIME':'시간','DEPT_CODE':'구이름','INPUT_QTY':'잔설처리량','REMARK':'비고'})"
   ]
  },
  {
   "cell_type": "code",
   "execution_count": 21,
   "metadata": {},
   "outputs": [],
   "source": [
    "change_list = []\n",
    "not_change_list = []\n",
    "\n",
    "for i in 잔설처리_df.구이름:\n",
    "    try:\n",
    "        change_list.append(부서정보_dict[int(i)])\n",
    "    except:\n",
    "        change_list.append('check')\n",
    "        not_change_list.append(i)\n",
    "\n",
    "잔설처리_df.구이름 = change_list\n",
    "# {'6110000', '6112226', 'D611428'} 데이터 없음\n",
    "# change_list.count('check') # 6개"
   ]
  },
  {
   "cell_type": "code",
   "execution_count": 22,
   "metadata": {},
   "outputs": [],
   "source": [
    "잔설처리_df.날짜 = 잔설처리_df.날짜.map(lambda x : datetime.datetime.strptime(str(x), \"%Y%m%d\"))\n",
    "잔설처리_df['년'] = 잔설처리_df.날짜.map(lambda x : x.year)\n",
    "잔설처리_df['월'] = 잔설처리_df.날짜.map(lambda x : x.month)\n",
    "잔설처리_df['일'] = 잔설처리_df.날짜.map(lambda x : x.day)\n",
    "잔설처리_df['날짜'] = 잔설처리_df.날짜.map(lambda x : datetime.date(x.year, x.month, x.day))"
   ]
  },
  {
   "cell_type": "code",
   "execution_count": 23,
   "metadata": {},
   "outputs": [
    {
     "data": {
      "text/html": [
       "<div>\n",
       "<style scoped>\n",
       "    .dataframe tbody tr th:only-of-type {\n",
       "        vertical-align: middle;\n",
       "    }\n",
       "\n",
       "    .dataframe tbody tr th {\n",
       "        vertical-align: top;\n",
       "    }\n",
       "\n",
       "    .dataframe thead th {\n",
       "        text-align: right;\n",
       "    }\n",
       "</style>\n",
       "<table border=\"1\" class=\"dataframe\">\n",
       "  <thead>\n",
       "    <tr style=\"text-align: right;\">\n",
       "      <th></th>\n",
       "      <th>날짜</th>\n",
       "      <th>시간</th>\n",
       "      <th>구이름</th>\n",
       "      <th>잔설처리량</th>\n",
       "      <th>비고</th>\n",
       "      <th>년</th>\n",
       "      <th>월</th>\n",
       "      <th>일</th>\n",
       "    </tr>\n",
       "  </thead>\n",
       "  <tbody>\n",
       "    <tr>\n",
       "      <td>0</td>\n",
       "      <td>2011-01-13</td>\n",
       "      <td>1510</td>\n",
       "      <td>남부사업소</td>\n",
       "      <td>0.0</td>\n",
       "      <td>NaN</td>\n",
       "      <td>2011</td>\n",
       "      <td>1</td>\n",
       "      <td>13</td>\n",
       "    </tr>\n",
       "    <tr>\n",
       "      <td>1</td>\n",
       "      <td>2011-01-13</td>\n",
       "      <td>1510</td>\n",
       "      <td>송파구</td>\n",
       "      <td>0.0</td>\n",
       "      <td>NaN</td>\n",
       "      <td>2011</td>\n",
       "      <td>1</td>\n",
       "      <td>13</td>\n",
       "    </tr>\n",
       "    <tr>\n",
       "      <td>2</td>\n",
       "      <td>2011-01-13</td>\n",
       "      <td>1510</td>\n",
       "      <td>영등포구</td>\n",
       "      <td>0.0</td>\n",
       "      <td>NaN</td>\n",
       "      <td>2011</td>\n",
       "      <td>1</td>\n",
       "      <td>13</td>\n",
       "    </tr>\n",
       "    <tr>\n",
       "      <td>3</td>\n",
       "      <td>2011-01-13</td>\n",
       "      <td>1510</td>\n",
       "      <td>금천구</td>\n",
       "      <td>0.0</td>\n",
       "      <td>NaN</td>\n",
       "      <td>2011</td>\n",
       "      <td>1</td>\n",
       "      <td>13</td>\n",
       "    </tr>\n",
       "    <tr>\n",
       "      <td>4</td>\n",
       "      <td>2011-01-13</td>\n",
       "      <td>1510</td>\n",
       "      <td>강서구</td>\n",
       "      <td>0.0</td>\n",
       "      <td>NaN</td>\n",
       "      <td>2011</td>\n",
       "      <td>1</td>\n",
       "      <td>13</td>\n",
       "    </tr>\n",
       "  </tbody>\n",
       "</table>\n",
       "</div>"
      ],
      "text/plain": [
       "           날짜    시간    구이름  잔설처리량  비고     년  월   일\n",
       "0  2011-01-13  1510  남부사업소    0.0 NaN  2011  1  13\n",
       "1  2011-01-13  1510    송파구    0.0 NaN  2011  1  13\n",
       "2  2011-01-13  1510   영등포구    0.0 NaN  2011  1  13\n",
       "3  2011-01-13  1510    금천구    0.0 NaN  2011  1  13\n",
       "4  2011-01-13  1510    강서구    0.0 NaN  2011  1  13"
      ]
     },
     "execution_count": 23,
     "metadata": {},
     "output_type": "execute_result"
    }
   ],
   "source": [
    "잔설처리_df.head()"
   ]
  },
  {
   "cell_type": "code",
   "execution_count": 24,
   "metadata": {},
   "outputs": [
    {
     "data": {
      "text/plain": [
       "array([nan])"
      ]
     },
     "execution_count": 24,
     "metadata": {},
     "output_type": "execute_result"
    }
   ],
   "source": [
    "잔설처리_df.비고.unique()"
   ]
  },
  {
   "cell_type": "code",
   "execution_count": 25,
   "metadata": {},
   "outputs": [
    {
     "data": {
      "text/plain": [
       "array([1510, 2100,  700,  600,  900,   10, 1130, 1630, 2000, 2230,  310,\n",
       "       2200,  630, 1200, 1540, 1600, 2210,  430,  910,  930,  400, 1010,\n",
       "       1420, 2300, 1700,  500,  200,  540, 1520, 1100, 2140,  330, 1030,\n",
       "        810, 2030,  800, 1400, 1800, 1430, 1830,  100, 1900, 1330, 1930,\n",
       "        959, 1448, 1603, 1604, 1614, 1611, 1621, 1624, 1622, 1625, 1627,\n",
       "       1628, 1631, 1633, 1632, 1634, 1635, 1636, 1638, 1639, 1641, 1640,\n",
       "       1642, 1645, 1647, 1648, 1644, 1649, 1650, 1654, 1658, 2341, 2351,\n",
       "          7,   21,   22,   33,   49,  116,  232,  234,  238,  259,  321,\n",
       "        322,  324,  328,  333,  343,  358,  401,  416,  425,  437,  442,\n",
       "        450,  517,  616,  645, 1941, 2231, 2256, 1309, 1408, 1409, 1410,\n",
       "       1407, 1413, 1411, 1415, 1417, 1418, 1421, 1425, 1431, 1433, 1434,\n",
       "       1436, 1439, 1437, 1438, 1440, 1441, 1443, 1444, 1446, 1447, 1449,\n",
       "       1450, 1451, 1452, 1453, 1455, 1458, 1511, 1516, 1629, 2107, 2112,\n",
       "       2117, 2119, 2122, 2128, 2129, 2133, 2232, 2235, 2240, 2250, 2302,\n",
       "       2312, 2313, 2316, 2318, 2322, 2325, 2324, 2329, 2330, 2331, 2333,\n",
       "       2336, 2337, 2338, 2339, 2342, 2353, 2359,   34,   41, 1841, 1403,\n",
       "       1750, 1740, 1837, 2006, 2204, 2243, 2259, 2303, 2301, 2305, 2306,\n",
       "       2304, 2314, 2315, 2310, 2323, 2328,    1,    3,  830,  925,  956,\n",
       "        958, 1000, 1005, 1012, 1040, 1052, 1059, 1102, 1104, 1107, 1108,\n",
       "       1109, 1110, 1116, 1120, 1126, 1135, 1136, 1142, 1655, 1657, 1701,\n",
       "       1703, 1722, 1734, 1739, 1742, 1744, 1754, 1755, 1757, 1756, 1804,\n",
       "       1808, 1811, 1812, 1821, 1827, 1829, 1833, 1840, 1842, 1847, 1846,\n",
       "       1851, 1854, 1956, 1957, 2137, 2255,    8,   47,   54,   55,  101,\n",
       "        105,  109,  120,  135,  137,  209,  320,  445,  502,  501,  726,\n",
       "       1529,  530,    0,  350,  730,  940,  110, 1300, 1620, 1530, 1500,\n",
       "        300,  920, 1320, 1310, 2120, 1250,  740,  840,   30, 1610, 1810,\n",
       "         20, 1020,  710, 1050, 2110, 1230, 1730])"
      ]
     },
     "execution_count": 25,
     "metadata": {},
     "output_type": "execute_result"
    }
   ],
   "source": [
    "잔설처리_df.시간.unique()"
   ]
  },
  {
   "cell_type": "code",
   "execution_count": 26,
   "metadata": {},
   "outputs": [],
   "source": [
    "잔설처리_df = 잔설처리_df[['날짜','년','월','일','시간','구이름','잔설처리량','비고']]\n",
    "\n",
    "잔설처리_df.to_csv('../데이터정리/미완성_잔설처리.csv', index=False)"
   ]
  },
  {
   "cell_type": "markdown",
   "metadata": {},
   "source": [
    "## 투입장비"
   ]
  },
  {
   "cell_type": "code",
   "execution_count": 27,
   "metadata": {},
   "outputs": [],
   "source": [
    "투입장비_df = 투입장비_df.rename(columns={'INPT_DE_DT':'날짜','INPT_TIME_HM':'시간','DEPT_CDE':'구이름','EQPMN_SE':'장비','INPT_EQPMN_CO':'장비수','RM':'비고'})"
   ]
  },
  {
   "cell_type": "code",
   "execution_count": 28,
   "metadata": {},
   "outputs": [],
   "source": [
    "change_list = []\n",
    "not_change_list = []\n",
    "\n",
    "for i in 투입장비_df.구이름:\n",
    "    try:\n",
    "        change_list.append(부서정보_dict[int(i)])\n",
    "    except:\n",
    "        change_list.append('check')\n",
    "        not_change_list.append(i)\n",
    "\n",
    "투입장비_df.구이름 = change_list\n",
    "# {'6110000', '6112226', 'D611428'} 데이터 없음\n",
    "# change_list.count('check') # 114개"
   ]
  },
  {
   "cell_type": "code",
   "execution_count": 29,
   "metadata": {},
   "outputs": [],
   "source": [
    "change_list = []\n",
    "not_change_list = []\n",
    "\n",
    "for i in 투입장비_df.장비:\n",
    "    try:\n",
    "        change_list.append(장비구분_dict[int(i)])\n",
    "    except:\n",
    "        change_list.append('check')\n",
    "        not_change_list.append(i)\n",
    "\n",
    "투입장비_df.장비 = change_list\n",
    "# {0, 100} 데이터없음\n",
    "# change_list.count('check') # 16188개"
   ]
  },
  {
   "cell_type": "code",
   "execution_count": 30,
   "metadata": {},
   "outputs": [],
   "source": [
    "투입장비_df.날짜 = 투입장비_df.날짜.map(lambda x : datetime.datetime.strptime(str(x), \"%Y%m%d\"))\n",
    "투입장비_df['년'] = 투입장비_df.날짜.map(lambda x : x.year)\n",
    "투입장비_df['월'] = 투입장비_df.날짜.map(lambda x : x.month)\n",
    "투입장비_df['일'] = 투입장비_df.날짜.map(lambda x : x.day)\n",
    "투입장비_df['날짜'] = 투입장비_df.날짜.map(lambda x : datetime.date(x.year, x.month, x.day))"
   ]
  },
  {
   "cell_type": "code",
   "execution_count": 31,
   "metadata": {},
   "outputs": [
    {
     "data": {
      "text/html": [
       "<div>\n",
       "<style scoped>\n",
       "    .dataframe tbody tr th:only-of-type {\n",
       "        vertical-align: middle;\n",
       "    }\n",
       "\n",
       "    .dataframe tbody tr th {\n",
       "        vertical-align: top;\n",
       "    }\n",
       "\n",
       "    .dataframe thead th {\n",
       "        text-align: right;\n",
       "    }\n",
       "</style>\n",
       "<table border=\"1\" class=\"dataframe\">\n",
       "  <thead>\n",
       "    <tr style=\"text-align: right;\">\n",
       "      <th></th>\n",
       "      <th>날짜</th>\n",
       "      <th>시간</th>\n",
       "      <th>구이름</th>\n",
       "      <th>장비</th>\n",
       "      <th>장비수</th>\n",
       "      <th>비고</th>\n",
       "      <th>INPT_DT</th>\n",
       "      <th>년</th>\n",
       "      <th>월</th>\n",
       "      <th>일</th>\n",
       "    </tr>\n",
       "  </thead>\n",
       "  <tbody>\n",
       "    <tr>\n",
       "      <td>0</td>\n",
       "      <td>2010-11-09</td>\n",
       "      <td>517</td>\n",
       "      <td>도봉구</td>\n",
       "      <td>기타</td>\n",
       "      <td>0.0</td>\n",
       "      <td>NaN</td>\n",
       "      <td>11/01/23</td>\n",
       "      <td>2010</td>\n",
       "      <td>11</td>\n",
       "      <td>9</td>\n",
       "    </tr>\n",
       "    <tr>\n",
       "      <td>1</td>\n",
       "      <td>2010-11-08</td>\n",
       "      <td>2100</td>\n",
       "      <td>은평구</td>\n",
       "      <td>유니목</td>\n",
       "      <td>1.0</td>\n",
       "      <td>NaN</td>\n",
       "      <td>11/01/23</td>\n",
       "      <td>2010</td>\n",
       "      <td>11</td>\n",
       "      <td>8</td>\n",
       "    </tr>\n",
       "    <tr>\n",
       "      <td>2</td>\n",
       "      <td>2010-11-08</td>\n",
       "      <td>2100</td>\n",
       "      <td>은평구</td>\n",
       "      <td>다목적차</td>\n",
       "      <td>2.0</td>\n",
       "      <td>NaN</td>\n",
       "      <td>11/01/23</td>\n",
       "      <td>2010</td>\n",
       "      <td>11</td>\n",
       "      <td>8</td>\n",
       "    </tr>\n",
       "    <tr>\n",
       "      <td>3</td>\n",
       "      <td>2010-11-08</td>\n",
       "      <td>2100</td>\n",
       "      <td>은평구</td>\n",
       "      <td>덤프트럭</td>\n",
       "      <td>0.0</td>\n",
       "      <td>NaN</td>\n",
       "      <td>11/01/23</td>\n",
       "      <td>2010</td>\n",
       "      <td>11</td>\n",
       "      <td>8</td>\n",
       "    </tr>\n",
       "    <tr>\n",
       "      <td>4</td>\n",
       "      <td>2010-11-08</td>\n",
       "      <td>2100</td>\n",
       "      <td>은평구</td>\n",
       "      <td>일반트럭</td>\n",
       "      <td>0.0</td>\n",
       "      <td>NaN</td>\n",
       "      <td>11/01/23</td>\n",
       "      <td>2010</td>\n",
       "      <td>11</td>\n",
       "      <td>8</td>\n",
       "    </tr>\n",
       "  </tbody>\n",
       "</table>\n",
       "</div>"
      ],
      "text/plain": [
       "           날짜    시간  구이름    장비  장비수  비고   INPT_DT     년   월  일\n",
       "0  2010-11-09   517  도봉구    기타  0.0 NaN  11/01/23  2010  11  9\n",
       "1  2010-11-08  2100  은평구   유니목  1.0 NaN  11/01/23  2010  11  8\n",
       "2  2010-11-08  2100  은평구  다목적차  2.0 NaN  11/01/23  2010  11  8\n",
       "3  2010-11-08  2100  은평구  덤프트럭  0.0 NaN  11/01/23  2010  11  8\n",
       "4  2010-11-08  2100  은평구  일반트럭  0.0 NaN  11/01/23  2010  11  8"
      ]
     },
     "execution_count": 31,
     "metadata": {},
     "output_type": "execute_result"
    }
   ],
   "source": [
    "투입장비_df.head()"
   ]
  },
  {
   "cell_type": "code",
   "execution_count": 32,
   "metadata": {},
   "outputs": [
    {
     "data": {
      "text/plain": [
       "array([nan])"
      ]
     },
     "execution_count": 32,
     "metadata": {},
     "output_type": "execute_result"
    }
   ],
   "source": [
    "투입장비_df.비고.unique()"
   ]
  },
  {
   "cell_type": "code",
   "execution_count": 33,
   "metadata": {},
   "outputs": [
    {
     "data": {
      "text/plain": [
       "array([ 517, 2100,  616,  645, 1941, 2231, 2256, 1309, 1408, 1409, 1410,\n",
       "       1407, 1413, 1411, 1415, 1417, 1418, 1420, 1421, 1425, 1430, 1431,\n",
       "       1433, 1434, 1627, 1628, 1630, 1631, 1633, 1632, 1634, 1635, 1636,\n",
       "       1603, 1604, 1614, 1611, 1621, 1624, 1622, 1625, 1109, 1110, 1116,\n",
       "       1120, 1126, 1130, 1135, 1136, 1142, 1655, 1657, 1701, 1703, 1722,\n",
       "       1734, 1739, 1742, 1744, 1754, 1755, 1756, 1757, 1800, 1804, 1808,\n",
       "       1811, 1812, 1821, 1827, 1829, 1830, 1833, 1840, 1842, 1846, 1847,\n",
       "       1851, 1854, 1956, 1957, 2137, 2255, 2313, 2315, 2331, 2342,    8,\n",
       "         47,   54,   55,  100,  101,  105,  109,  120,  135,  137,  209,\n",
       "        320,  445,  501,  502,  726, 1529, 2300,  930, 1330, 1645, 1647,\n",
       "       1648, 1649, 1650, 1654, 1658, 2341, 2351,    7,   21,   22,   33,\n",
       "         49,  116,  232,  234,  238,  259,  321,  322,  324,  328,  333,\n",
       "        343,  358,  401,  416,  425,  437,  442,  450, 1436, 1437, 1438,\n",
       "       1439, 1440, 1441, 1443, 1444, 1446, 1447, 1448, 1449, 1450, 1451,\n",
       "       1452, 1453, 1455, 1458, 1510, 1511, 1516, 1629, 2107, 2112, 2117,\n",
       "       2119, 2122, 2128, 2129, 2133, 2200, 2232, 2235, 2240, 2250, 2302,\n",
       "       2312, 2316, 2318, 2322, 2324, 2325, 2329, 2330, 2333, 2336, 2337,\n",
       "       2338, 2339, 2353, 2359,   34,   41, 1841, 1403, 1750, 1740, 1837,\n",
       "       2006, 2204, 2243, 2259, 2301, 2303, 2304, 2305, 2306, 2310, 2314,\n",
       "       2323, 2328,    1,    3,  630,  830,  900,  925,  956,  958, 1000,\n",
       "       1005, 1012, 1040, 1052, 1059, 1102, 1104, 1107, 1108,  959, 1638,\n",
       "       1639, 1641, 1640, 1642, 1644,  400,  200,  910, 1900, 1100,   10,\n",
       "        330, 1930,  700,  600,  540, 2000, 2230, 1700, 1400,    0, 1540,\n",
       "       1600, 1030, 1200, 2140,  500,  940, 2210,  350,  730,  430,  810,\n",
       "        310, 1520,  110, 2030,  530, 1010,  800, 1530, 1300,  300, 1500,\n",
       "       1620,  920, 1320, 1310, 2120,  840, 1250,  740, 1020,   30,   20,\n",
       "       1610, 1810, 2110,  710, 1050, 1230, 1730])"
      ]
     },
     "execution_count": 33,
     "metadata": {},
     "output_type": "execute_result"
    }
   ],
   "source": [
    "투입장비_df.시간.unique()"
   ]
  },
  {
   "cell_type": "code",
   "execution_count": 34,
   "metadata": {},
   "outputs": [],
   "source": [
    "투입장비_df = 투입장비_df[['날짜','년','월','일','시간','구이름','장비','장비수','비고']]\n",
    "\n",
    "투입장비_df.to_csv('../데이터정리/미완성_투입장비.csv', index=False)"
   ]
  },
  {
   "cell_type": "markdown",
   "metadata": {},
   "source": [
    "## 투입인원"
   ]
  },
  {
   "cell_type": "code",
   "execution_count": 35,
   "metadata": {},
   "outputs": [],
   "source": [
    "투입인원_df = 투입인원_df.rename(columns={'INPT_DE_DT':'날짜','INPT_TIME_HM':'시간','DEPT_CDE':'구이름','NMPR_SE':'인원구분','INPT_NMPR_CO':'인원수','RM':'비고'})"
   ]
  },
  {
   "cell_type": "code",
   "execution_count": 36,
   "metadata": {},
   "outputs": [],
   "source": [
    "change_list = []\n",
    "not_change_list = []\n",
    "\n",
    "for i in 투입인원_df.구이름:\n",
    "    try:\n",
    "        change_list.append(부서정보_dict[int(i)])\n",
    "    except:\n",
    "        change_list.append('check')\n",
    "        not_change_list.append(i)\n",
    "\n",
    "투입인원_df.구이름 = change_list\n",
    "# {'6110000', '6112226', 'D611428'} 데이터 없음\n",
    "# change_list.count('check') # 114개"
   ]
  },
  {
   "cell_type": "code",
   "execution_count": 37,
   "metadata": {},
   "outputs": [],
   "source": [
    "change_list = []\n",
    "not_change_list = []\n",
    "\n",
    "for i in 투입인원_df.인원구분:\n",
    "    try:\n",
    "        change_list.append(인원구분_dict[int(i)])\n",
    "    except:\n",
    "        change_list.append('check')\n",
    "        not_change_list.append(i)\n",
    "\n",
    "투입인원_df.인원구분 = change_list\n",
    "# change_list.count('check') # 0개"
   ]
  },
  {
   "cell_type": "code",
   "execution_count": 38,
   "metadata": {},
   "outputs": [],
   "source": [
    "투입인원_df.날짜 = 투입인원_df.날짜.map(lambda x : datetime.datetime.strptime(str(x), \"%Y%m%d\"))\n",
    "투입인원_df['년'] = 투입인원_df.날짜.map(lambda x : x.year)\n",
    "투입인원_df['월'] = 투입인원_df.날짜.map(lambda x : x.month)\n",
    "투입인원_df['일'] = 투입인원_df.날짜.map(lambda x : x.day)\n",
    "투입인원_df['날짜'] = 투입인원_df.날짜.map(lambda x : datetime.date(x.year, x.month, x.day))"
   ]
  },
  {
   "cell_type": "code",
   "execution_count": 39,
   "metadata": {},
   "outputs": [
    {
     "data": {
      "text/html": [
       "<div>\n",
       "<style scoped>\n",
       "    .dataframe tbody tr th:only-of-type {\n",
       "        vertical-align: middle;\n",
       "    }\n",
       "\n",
       "    .dataframe tbody tr th {\n",
       "        vertical-align: top;\n",
       "    }\n",
       "\n",
       "    .dataframe thead th {\n",
       "        text-align: right;\n",
       "    }\n",
       "</style>\n",
       "<table border=\"1\" class=\"dataframe\">\n",
       "  <thead>\n",
       "    <tr style=\"text-align: right;\">\n",
       "      <th></th>\n",
       "      <th>날짜</th>\n",
       "      <th>시간</th>\n",
       "      <th>구이름</th>\n",
       "      <th>인원구분</th>\n",
       "      <th>인원수</th>\n",
       "      <th>비고</th>\n",
       "      <th>INPT_DT</th>\n",
       "      <th>년</th>\n",
       "      <th>월</th>\n",
       "      <th>일</th>\n",
       "    </tr>\n",
       "  </thead>\n",
       "  <tbody>\n",
       "    <tr>\n",
       "      <td>0</td>\n",
       "      <td>2010-11-09</td>\n",
       "      <td>343</td>\n",
       "      <td>금천구</td>\n",
       "      <td>환경미화원</td>\n",
       "      <td>0.0</td>\n",
       "      <td>NaN</td>\n",
       "      <td>11/01/23</td>\n",
       "      <td>2010</td>\n",
       "      <td>11</td>\n",
       "      <td>9</td>\n",
       "    </tr>\n",
       "    <tr>\n",
       "      <td>1</td>\n",
       "      <td>2010-11-09</td>\n",
       "      <td>343</td>\n",
       "      <td>금천구</td>\n",
       "      <td>운전원</td>\n",
       "      <td>0.0</td>\n",
       "      <td>NaN</td>\n",
       "      <td>11/01/23</td>\n",
       "      <td>2010</td>\n",
       "      <td>11</td>\n",
       "      <td>9</td>\n",
       "    </tr>\n",
       "    <tr>\n",
       "      <td>2</td>\n",
       "      <td>2010-11-09</td>\n",
       "      <td>343</td>\n",
       "      <td>금천구</td>\n",
       "      <td>기타</td>\n",
       "      <td>0.0</td>\n",
       "      <td>NaN</td>\n",
       "      <td>11/01/23</td>\n",
       "      <td>2010</td>\n",
       "      <td>11</td>\n",
       "      <td>9</td>\n",
       "    </tr>\n",
       "    <tr>\n",
       "      <td>3</td>\n",
       "      <td>2010-11-09</td>\n",
       "      <td>343</td>\n",
       "      <td>금천구</td>\n",
       "      <td>군인</td>\n",
       "      <td>0.0</td>\n",
       "      <td>NaN</td>\n",
       "      <td>11/01/23</td>\n",
       "      <td>2010</td>\n",
       "      <td>11</td>\n",
       "      <td>9</td>\n",
       "    </tr>\n",
       "    <tr>\n",
       "      <td>4</td>\n",
       "      <td>2010-11-09</td>\n",
       "      <td>343</td>\n",
       "      <td>금천구</td>\n",
       "      <td>자원봉사(학생)</td>\n",
       "      <td>0.0</td>\n",
       "      <td>NaN</td>\n",
       "      <td>11/01/23</td>\n",
       "      <td>2010</td>\n",
       "      <td>11</td>\n",
       "      <td>9</td>\n",
       "    </tr>\n",
       "  </tbody>\n",
       "</table>\n",
       "</div>"
      ],
      "text/plain": [
       "           날짜   시간  구이름      인원구분  인원수  비고   INPT_DT     년   월  일\n",
       "0  2010-11-09  343  금천구     환경미화원  0.0 NaN  11/01/23  2010  11  9\n",
       "1  2010-11-09  343  금천구       운전원  0.0 NaN  11/01/23  2010  11  9\n",
       "2  2010-11-09  343  금천구        기타  0.0 NaN  11/01/23  2010  11  9\n",
       "3  2010-11-09  343  금천구        군인  0.0 NaN  11/01/23  2010  11  9\n",
       "4  2010-11-09  343  금천구  자원봉사(학생)  0.0 NaN  11/01/23  2010  11  9"
      ]
     },
     "execution_count": 39,
     "metadata": {},
     "output_type": "execute_result"
    }
   ],
   "source": [
    "투입인원_df.head()"
   ]
  },
  {
   "cell_type": "code",
   "execution_count": 40,
   "metadata": {},
   "outputs": [
    {
     "data": {
      "text/plain": [
       "array([nan])"
      ]
     },
     "execution_count": 40,
     "metadata": {},
     "output_type": "execute_result"
    }
   ],
   "source": [
    "투입인원_df.비고.unique()"
   ]
  },
  {
   "cell_type": "code",
   "execution_count": 41,
   "metadata": {},
   "outputs": [
    {
     "data": {
      "text/plain": [
       "array([ 343,  358,  401,  416,  425,  437,  442,  450,  517, 2100,  616,\n",
       "        645, 1941, 2231, 2256, 1309, 1408, 1409, 1410, 1407, 1413, 1411,\n",
       "       1415, 1417, 1418, 1420, 1421, 1425, 1430, 1603, 1604, 1614, 1611,\n",
       "       1621, 1624, 1622, 1625, 1627, 1628, 1630, 1631, 1431, 1433, 1434,\n",
       "       1436, 1437, 1438, 1439, 1440, 1441, 1443, 1444, 1446, 1447, 1448,\n",
       "       1449, 1450, 1451, 1452, 1453, 1455, 1458, 1510, 1511, 1516, 1529,\n",
       "       1629, 1632, 1633, 1634, 1635, 1636, 1638, 1639, 1640, 1641, 1642,\n",
       "       1644, 1645,  959, 1739, 1740, 1742, 1744, 1750, 1754, 1755, 1756,\n",
       "       1757, 1800, 1804, 1808, 1811, 1812, 1821, 1827, 1829, 1830, 1833,\n",
       "       1837, 1840, 1841, 1842, 1846, 1847, 1851, 1854, 1956, 1957, 2006,\n",
       "       2107, 2112, 2117, 2119, 2122, 2128, 2129, 2133, 2137, 2200, 2204,\n",
       "       2232, 2235, 2240, 2243, 2250, 2255, 2259, 2300, 2301, 2302, 2303,\n",
       "       2304, 2305, 2306, 2310, 2312, 2313, 2314, 2315, 2316, 2318, 2322,\n",
       "       2323, 2324, 2325, 2328, 2329, 2330, 2331, 2333, 2336, 2337, 2338,\n",
       "       2339, 2341, 2342, 2351, 2353, 2359, 1647, 1648, 1649, 1650, 1654,\n",
       "       1655, 1657, 1658, 1701, 1703, 1722, 1734,    1,    3,    7,    8,\n",
       "         21,   22,   33,   34,   41,   47,   49,   54,   55,  100,  101,\n",
       "        105,  109,  116,  120,  135,  137,  209,  232,  234,  238,  259,\n",
       "        320,  321,  322,  324,  328,  333,  445,  501,  502,  630,  726,\n",
       "        830,  900,  925,  930,  956,  958, 1000, 1005, 1012, 1040, 1052,\n",
       "       1059, 1102, 1104, 1107, 1108, 1109, 1110, 1116, 1120, 1126, 1130,\n",
       "       1135, 1136, 1142, 1330, 1403,  400,  200,  910, 1900, 1100,   10,\n",
       "        330, 1930,  700,  600,  540, 2000, 2230, 1700, 1400, 1540, 1600,\n",
       "       1030, 1200, 2140,  500,  940, 2210,    0,  350,  430,  810,  730,\n",
       "        310, 1520, 2030,  110,  530, 1010,  800, 1530, 1300,  300, 1500,\n",
       "       1620,  920, 1610, 1310, 2120, 1320,  840, 1250,  740, 1020,   30,\n",
       "         20, 1810, 2110,  710, 1050, 1230, 1730])"
      ]
     },
     "execution_count": 41,
     "metadata": {},
     "output_type": "execute_result"
    }
   ],
   "source": [
    "투입인원_df.시간.unique()"
   ]
  },
  {
   "cell_type": "code",
   "execution_count": 42,
   "metadata": {},
   "outputs": [],
   "source": [
    "투입인원_df = 투입인원_df[['날짜','년','월','일','시간','구이름','인원구분','인원수','비고']]\n",
    "\n",
    "투입인원_df.to_csv('../데이터정리/미완성_투입인원.csv', index=False)"
   ]
  }
 ],
 "metadata": {
  "kernelspec": {
   "display_name": "python_3",
   "language": "python",
   "name": "python_3"
  },
  "language_info": {
   "codemirror_mode": {
    "name": "ipython",
    "version": 3
   },
   "file_extension": ".py",
   "mimetype": "text/x-python",
   "name": "python",
   "nbconvert_exporter": "python",
   "pygments_lexer": "ipython3",
   "version": "3.7.4"
  }
 },
 "nbformat": 4,
 "nbformat_minor": 2
}
