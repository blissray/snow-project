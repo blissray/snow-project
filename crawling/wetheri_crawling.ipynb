{
 "cells": [
  {
   "cell_type": "code",
   "execution_count": 1,
   "metadata": {},
   "outputs": [],
   "source": [
    "from bs4 import BeautifulSoup\n",
    "import urllib.request as req\n",
    "from selenium import webdriver\n",
    "from selenium.webdriver.support.ui import Select\n",
    "import pandas as pd"
   ]
  },
  {
   "cell_type": "code",
   "execution_count": 2,
   "metadata": {},
   "outputs": [],
   "source": [
    "year = ['2017','2018']\n",
    "month = ['0{}'.format(i) for i in range(1,10)] + [i for i in range(10,13)]"
   ]
  },
  {
   "cell_type": "code",
   "execution_count": 3,
   "metadata": {},
   "outputs": [
    {
     "name": "stderr",
     "output_type": "stream",
     "text": [
      "/home/jongsky/anaconda3/envs/python_3/lib/python3.7/site-packages/ipykernel_launcher.py:6: DeprecationWarning: use options instead of chrome_options\n",
      "  \n"
     ]
    }
   ],
   "source": [
    "options = webdriver.ChromeOptions()\n",
    "options.add_argument('headless')\n",
    "options.add_argument('window-size=1920x1080')\n",
    "options.add_argument(\"disable-gpu\")\n",
    "\n",
    "driver = webdriver.Chrome('chromedriver', chrome_options=options)\n",
    "# driver = webdriver.Chrome('chromedriver')"
   ]
  },
  {
   "cell_type": "code",
   "execution_count": 4,
   "metadata": {},
   "outputs": [],
   "source": [
    "url = 'http://www.weatheri.co.kr/bygone/bygone01.php'"
   ]
  },
  {
   "cell_type": "code",
   "execution_count": 5,
   "metadata": {},
   "outputs": [],
   "source": [
    "driver.get(url)"
   ]
  },
  {
   "cell_type": "code",
   "execution_count": 6,
   "metadata": {},
   "outputs": [],
   "source": [
    "# select.select_by_visible_text('2017')\n",
    "\n",
    "select = Select(driver.find_element_by_name('s_year'))\n",
    "select.select_by_value('2017')\n",
    "\n",
    "select = Select(driver.find_element_by_name('s_month'))\n",
    "select.select_by_value('1')\n",
    "\n",
    "select = Select(driver.find_element_by_name('s_day'))\n",
    "select.select_by_value('1')\n",
    "\n",
    "select = Select(driver.find_element_by_name('e_year'))\n",
    "select.select_by_value('2018')\n",
    "\n",
    "select = Select(driver.find_element_by_name('e_month'))\n",
    "select.select_by_value('12')\n",
    "\n",
    "select = Select(driver.find_element_by_name('e_day'))\n",
    "select.select_by_value('31')\n",
    "\n",
    "driver.find_element_by_css_selector('tbody > tr:nth-child(2) > td > img').click()"
   ]
  },
  {
   "cell_type": "code",
   "execution_count": 7,
   "metadata": {},
   "outputs": [
    {
     "name": "stderr",
     "output_type": "stream",
     "text": [
      "/home/jongsky/miniconda3/envs/python/lib/python3.7/site-packages/ipykernel_launcher.py:1: DeprecationWarning: use driver.switch_to.frame instead\n",
      "  \"\"\"Entry point for launching an IPython kernel.\n"
     ]
    }
   ],
   "source": [
    "driver.switch_to_frame(\"kako\")    # krjmain Frame으로 스위칭 "
   ]
  },
  {
   "cell_type": "code",
   "execution_count": 8,
   "metadata": {},
   "outputs": [],
   "source": [
    "for y in year:\n",
    "    all_df = pd.DataFrame(columns=['날짜', '평균  기온', '최고  기온', '최저  기온', '강수량(mm)', '신적설(cm)', '평균  풍속(m/s)','평균  습도  (%)', '운량(1/10)', '일조  시간  (Hr)', '날씨'])\n",
    "\n",
    "    for m in month:\n",
    "        select = Select(driver.find_element_by_name('start'))\n",
    "        select.select_by_value('{}-{}-01'.format(y, m))\n",
    "        driver.find_element_by_css_selector('td:nth-child(2) > img').click()\n",
    "        html = driver.page_source\n",
    "        soup = BeautifulSoup(html, 'html.parser')\n",
    "        table = soup.find_all('tbody')[2]\n",
    "        \n",
    "        df = pd.read_html(str(table),header=0)[0]\n",
    "        all_df = all_df.append(df)   \n",
    "        \n",
    "    all_df = all_df.reset_index(drop=True)\n",
    "    all_df.to_csv('../data/원본데이터/기상/wetheri_일별기상관측_{}.csv'.format(y))"
   ]
  },
  {
   "cell_type": "code",
   "execution_count": 9,
   "metadata": {},
   "outputs": [],
   "source": [
    "driver.close()"
   ]
  }
 ],
 "metadata": {
  "kernelspec": {
   "display_name": "Python 3",
   "language": "python",
   "name": "python3"
  },
  "language_info": {
   "codemirror_mode": {
    "name": "ipython",
    "version": 3
   },
   "file_extension": ".py",
   "mimetype": "text/x-python",
   "name": "python",
   "nbconvert_exporter": "python",
   "pygments_lexer": "ipython3",
   "version": "3.7.4"
  }
 },
 "nbformat": 4,
 "nbformat_minor": 2
}
